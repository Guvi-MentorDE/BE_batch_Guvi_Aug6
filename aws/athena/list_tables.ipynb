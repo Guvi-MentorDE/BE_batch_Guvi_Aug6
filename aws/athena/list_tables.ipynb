{
 "cells": [
  {
   "cell_type": "code",
   "execution_count": 5,
   "metadata": {},
   "outputs": [],
   "source": [
    "import boto3\n",
    "import os\n",
    " \n",
    "os.environ.setdefault('AWS_DEFAULT_REGION', 'us-east-1')\n",
    " \n",
    "athena_client = boto3.client('athena')"
   ]
  },
  {
   "cell_type": "code",
   "execution_count": 3,
   "metadata": {},
   "outputs": [
    {
     "data": {
      "text/plain": [
       "dict"
      ]
     },
     "execution_count": 3,
     "metadata": {},
     "output_type": "execute_result"
    }
   ],
   "source": [
    "# Get metadata for all tables in given database\n",
    "athena_client.list_table_metadata\n",
    " \n",
    "athena_client.list_table_metadata(\n",
    "    CatalogName='AwsDataCatalog',\n",
    "    DatabaseName='mydb'\n",
    ")\n",
    " \n",
    "tables = athena_client.list_table_metadata(\n",
    "    CatalogName='AwsDataCatalog',\n",
    "    DatabaseName='mydb')\n",
    " \n",
    "type(tables)"
   ]
  },
  {
   "cell_type": "code",
   "execution_count": 4,
   "metadata": {},
   "outputs": [],
   "source": [
    "tables['TableMetadataList']\n",
    " \n",
    "[table['Name'] for table in tables['TableMetadataList']]\n",
    " \n",
    "# Get metadata for a given table in given database\n",
    "athena_client.get_table_metadata\n",
    " \n",
    "athena_client.get_table_metadata(\n",
    "    CatalogName='AwsDataCatalog',\n",
    "    DatabaseName='mydb',\n",
    "    TableName='custs_txt'\n",
    ")\n",
    " \n",
    "table_metadata = athena_client.get_table_metadata(\n",
    "    CatalogName='AwsDataCatalog',\n",
    "    DatabaseName='mydb',\n",
    "    TableName='structuredata'\n",
    ")"
   ]
  },
  {
   "cell_type": "code",
   "execution_count": 6,
   "metadata": {},
   "outputs": [
    {
     "data": {
      "text/plain": [
       "['s3://top50techdata/',\n",
       " 's3://porjectdata/custs.txt',\n",
       " 's3://result1612/part-00000-5e115e72-851d-4fee-8193-f2edc8f0f321-c000.csv',\n",
       " 's3://result1612/part-00000-5e115e72-851d-4fee-8193-f2edc8f0f321-c000.csv',\n",
       " 's3://porjectdata/',\n",
       " 's3://structuredata/',\n",
       " 's3://top50techdata/',\n",
       " 's3://top50techdata/Top_tech_companies.csv',\n",
       " 's3://top50techdata/',\n",
       " '']"
      ]
     },
     "execution_count": 6,
     "metadata": {},
     "output_type": "execute_result"
    }
   ],
   "source": [
    "table_metadata\n",
    " \n",
    "table_metadata['TableMetadata']['TableType']\n",
    " \n",
    "table_metadata['TableMetadata']['Columns']\n",
    " \n",
    "table_metadata['TableMetadata']['Parameters']['location']\n",
    " \n",
    "# Processing metadata of all the tables returned by list_table_metadata\n",
    "tables = athena_client.list_table_metadata(\n",
    "    CatalogName='AwsDataCatalog',\n",
    "    DatabaseName='mydb'\n",
    ")\n",
    " \n",
    "[table['Parameters']['location'] for table in tables['TableMetadataList']]"
   ]
  }
 ],
 "metadata": {
  "kernelspec": {
   "display_name": "venv2",
   "language": "python",
   "name": "python3"
  },
  "language_info": {
   "codemirror_mode": {
    "name": "ipython",
    "version": 3
   },
   "file_extension": ".py",
   "mimetype": "text/x-python",
   "name": "python",
   "nbconvert_exporter": "python",
   "pygments_lexer": "ipython3",
   "version": "3.11.2"
  }
 },
 "nbformat": 4,
 "nbformat_minor": 2
}
