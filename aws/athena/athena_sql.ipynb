{
 "cells": [
  {
   "cell_type": "code",
   "execution_count": 1,
   "metadata": {},
   "outputs": [
    {
     "data": {
      "text/plain": [
       "{'WorkGroup': {'Name': 'Spark_primary',\n",
       "  'State': 'ENABLED',\n",
       "  'Configuration': {'ResultConfiguration': {'OutputLocation': 's3://aws-athena-query-results-908516814436-us-east-1-gihsa310/spark',\n",
       "    'ExpectedBucketOwner': '908516814436'},\n",
       "   'PublishCloudWatchMetricsEnabled': True,\n",
       "   'EngineVersion': {'SelectedEngineVersion': 'PySpark engine version 3',\n",
       "    'EffectiveEngineVersion': 'PySpark engine version 3'},\n",
       "   'ExecutionRole': 'arn:aws:iam::908516814436:role/service-role/AWSAthenaSparkExecutionRole-gihsa310',\n",
       "   'EnableMinimumEncryptionConfiguration': False},\n",
       "  'CreationTime': datetime.datetime(2023, 12, 9, 1, 46, 10, 642000, tzinfo=tzlocal())},\n",
       " 'ResponseMetadata': {'RequestId': '65aaff61-aec7-4942-b05c-7cf28eb8a449',\n",
       "  'HTTPStatusCode': 200,\n",
       "  'HTTPHeaders': {'date': 'Sat, 16 Dec 2023 05:23:08 GMT',\n",
       "   'content-type': 'application/x-amz-json-1.1',\n",
       "   'content-length': '577',\n",
       "   'connection': 'keep-alive',\n",
       "   'x-amzn-requestid': '65aaff61-aec7-4942-b05c-7cf28eb8a449'},\n",
       "  'RetryAttempts': 0}}"
      ]
     },
     "execution_count": 1,
     "metadata": {},
     "output_type": "execute_result"
    }
   ],
   "source": [
    "import boto3\n",
    "import os\n",
    " \n",
    "os.environ.setdefault('AWS_DEFAULT_REGION', 'us-east-1')\n",
    " \n",
    "athena_client = boto3.client('athena')\n",
    " \n",
    "athena_client.start_query_execution\n",
    " \n",
    "athena_client.list_work_groups()\n",
    "athena_client.get_work_group(WorkGroup='Spark_primary')\n",
    "\n",
    "\n"
   ]
  },
  {
   "cell_type": "code",
   "execution_count": 2,
   "metadata": {},
   "outputs": [],
   "source": [
    "queryStart = athena_client.start_query_execution(\n",
    "    QueryString = 'SELECT count(*) FROM mydb.top50techdata',\n",
    "    QueryExecutionContext = {\n",
    "        'Database': 'mydb'\n",
    "    }, \n",
    "    ResultConfiguration = { 'OutputLocation': 's3://aws-athena-query-results-908516814436-us-east-1-gihsa310/spark'}\n",
    ")\n",
    "\n",
    "queryExecution = athena_client.get_query_execution(QueryExecutionId=queryStart['QueryExecutionId'])\n",
    "\n",
    "\n"
   ]
  },
  {
   "cell_type": "code",
   "execution_count": 4,
   "metadata": {},
   "outputs": [
    {
     "name": "stdout",
     "output_type": "stream",
     "text": [
      "{'Rows': [{'Data': [{'VarCharValue': '_col0'}]}, {'Data': [{'VarCharValue': '50'}]}], 'ResultSetMetadata': {'ColumnInfo': [{'CatalogName': 'hive', 'SchemaName': '', 'TableName': '', 'Name': '_col0', 'Label': '_col0', 'Type': 'bigint', 'Precision': 19, 'Scale': 0, 'Nullable': 'UNKNOWN', 'CaseSensitive': False}]}}\n"
     ]
    }
   ],
   "source": [
    "results = athena_client.get_query_results(QueryExecutionId=queryStart['QueryExecutionId'])\n",
    "print(results['ResultSet'])"
   ]
  }
 ],
 "metadata": {
  "kernelspec": {
   "display_name": "venv2",
   "language": "python",
   "name": "python3"
  },
  "language_info": {
   "codemirror_mode": {
    "name": "ipython",
    "version": 3
   },
   "file_extension": ".py",
   "mimetype": "text/x-python",
   "name": "python",
   "nbconvert_exporter": "python",
   "pygments_lexer": "ipython3",
   "version": "3.11.2"
  }
 },
 "nbformat": 4,
 "nbformat_minor": 2
}
