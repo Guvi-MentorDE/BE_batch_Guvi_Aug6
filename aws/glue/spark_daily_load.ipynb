{
 "cells": [
  {
   "cell_type": "code",
   "execution_count": null,
   "metadata": {},
   "outputs": [],
   "source": [
    "from pyspark import SparkConf\n",
    "from pyspark.sql import SparkSession, Row\n",
    "from pyspark.sql import Row\n",
    "from pyspark.sql.types import *\n",
    "from pyspark.sql.functions import col, lit, udf, min, max, concat, column, row_number, avg, count\n",
    "from pyspark.sql.window import WindowSpec, Window\n",
    "\n",
    "import sys\n",
    "from awsglue.transforms import *\n",
    "from awsglue.utils import getResolvedOptions\n",
    "from pyspark.context import SparkContext\n",
    "from awsglue.context import GlueContext\n",
    "from awsglue.job import Job\n",
    "\n",
    "sc = SparkContext.getOrCreate()\n",
    "glueContext = GlueContext(sc)\n",
    "\n"
   ]
  },
  {
   "cell_type": "code",
   "execution_count": null,
   "metadata": {},
   "outputs": [],
   "source": [
    "spark = glueContext.spark_session\n",
    "job = Job(glueContext)\n",
    "spark = SparkSession.builder.appName(\"spark_test\").getOrCreate()\n",
    "sc = spark.sparkContext\n",
    "df = spark.read.table(\"bronze.bronzedbcustomer_data_landing_zone\")\n",
    "\n",
    "df.printSchema()"
   ]
  },
  {
   "cell_type": "code",
   "execution_count": null,
   "metadata": {},
   "outputs": [],
   "source": [
    "df2 = df.filter(df.cust_profession.isNotNull() & df.cust_id.isNotNull() & df.cust_age.isNotNull())\n",
    "df2.show()"
   ]
  },
  {
   "cell_type": "code",
   "execution_count": null,
   "metadata": {},
   "outputs": [],
   "source": [
    "df2.repartition(1).write.option(\"path\",\"s3://result1612/customer/\").mode(\"overwrite\").saveAsTable(\"silver.customer_details\")"
   ]
  }
 ],
 "metadata": {
  "language_info": {
   "name": "python"
  }
 },
 "nbformat": 4,
 "nbformat_minor": 2
}
