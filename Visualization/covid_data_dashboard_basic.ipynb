{
 "cells": [
  {
   "cell_type": "code",
   "execution_count": null,
   "metadata": {},
   "outputs": [],
   "source": [
    "import numpy as np\n",
    "import pandas as pd\n",
    "import matplotlib.pyplot as plt\n",
    " \n",
    "data = pd.read_csv('D:\\Guvi\\dashboard\\case_time_series.csv')"
   ]
  },
  {
   "cell_type": "code",
   "execution_count": null,
   "metadata": {},
   "outputs": [],
   "source": [
    "Y = data.iloc[61:,1].values \n",
    "R = data.iloc[61:,3].values \n",
    "D = data.iloc[61:,5].values \n",
    "X = data.iloc[61:,0] \n",
    "\n",
    "#‘Y’ variable stores the ‘Daily Confirmed’ corona virus cases\n",
    "\n",
    "#‘R’ variable stores the ‘Daily Recovered’ corona virus cases\n",
    "\n",
    "#‘D’ variable stores the ‘Daily Deceased’ corona virus cases\n",
    "\n",
    "#And ‘X’ variable stores the ‘Date’ column\n",
    "\n",
    "plt.plot(X,Y)\n",
    "\n"
   ]
  },
  {
   "cell_type": "code",
   "execution_count": null,
   "metadata": {},
   "outputs": [],
   "source": [
    "#width, height\n",
    "plt.figure(figsize=(30,8))\n",
    "\n",
    "ax = plt.axes()\n",
    "#‘.grid’ function lets you create grid lines across the graph. \n",
    "# The width of the grid lines can be adjusted by simply passing an argument ‘linewidth’ and changing its color by passing ‘color’ argument\n",
    "ax.grid(linewidth=0.4, color='white') \n",
    "\n",
    "ax.set_facecolor(\"black\") \n",
    "ax.set_xlabel('\\nDate',size=25,color='red')\n",
    "ax.set_ylabel('Number of Confirmed Cases\\n',\n",
    "              size=25,color='blue')\n",
    "\n",
    "ax.plot(X,Y,\n",
    "        color='#1F77B4',\n",
    "        marker='o',\n",
    "        linewidth=4,\n",
    "        markersize=15,\n",
    "        markeredgecolor='blue')"
   ]
  }
 ],
 "metadata": {
  "kernelspec": {
   "display_name": "base",
   "language": "python",
   "name": "python3"
  },
  "language_info": {
   "codemirror_mode": {
    "name": "ipython",
    "version": 3
   },
   "file_extension": ".py",
   "mimetype": "text/x-python",
   "name": "python",
   "nbconvert_exporter": "python",
   "pygments_lexer": "ipython3",
   "version": "3.11.3"
  }
 },
 "nbformat": 4,
 "nbformat_minor": 2
}
